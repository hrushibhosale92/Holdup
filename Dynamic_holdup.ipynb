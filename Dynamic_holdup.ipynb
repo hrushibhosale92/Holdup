{
 "cells": [
  {
   "cell_type": "code",
   "execution_count": null,
   "id": "96a072a3",
   "metadata": {},
   "outputs": [],
   "source": [
    "import pandas as pd\n",
    "import numpy as np\n",
    "import sklearn.metrics as metrics\n",
    "from sklearn.model_selection import RepeatedKFold\n",
    "from sklearn.ensemble import GradientBoostingRegressor\n",
    "from sklearn.model_selection import GridSearchCV,train_test_split,KFold\n",
    "from sklearn.model_selection import train_test_split,cross_val_score,cross_val_predict,RepeatedKFold,GridSearchCV\n",
    "from sklearn.metrics import mean_absolute_error,r2_score\n",
    "import matplotlib.pyplot as plt\n",
    "from sklearn.linear_model import LinearRegression\n"
   ]
  },
  {
   "cell_type": "code",
   "execution_count": null,
   "id": "912b9034",
   "metadata": {},
   "outputs": [],
   "source": [
    "def AARE(y_actual,y_pred):\n",
    "    aare = np.mean(abs((y_pred - y_actual) / y_actual)) * 100\n",
    "    return aare"
   ]
  },
  {
   "cell_type": "code",
   "execution_count": null,
   "id": "ad3cb154",
   "metadata": {},
   "outputs": [],
   "source": [
    "data = pd.read_csv('dynamic_holdup.csv')\n",
    "data = data.dropna()\n",
    "data.shape"
   ]
  },
  {
   "cell_type": "code",
   "execution_count": null,
   "id": "5ebf0031",
   "metadata": {},
   "outputs": [],
   "source": [
    "fig, axs = plt.subplots(2, 2, sharey=True, tight_layout=True,figsize=(10,10))\n",
    "n_bins = 20\n",
    "\n",
    "axs[0,0].hist(data['Liquid Holdup '], bins=n_bins)\n",
    "axs[0,0].set_title('(a) Experimental Liquid Holdup')\n",
    "axs[0,1].hist(data['Superficial Liquid Velocity '], bins=n_bins)\n",
    "axs[0,1].set_title('(b) Superficial Liquid Velocity ')\n",
    "axs[1,0].hist(data['Superficial Gas Velocity '], bins=n_bins)\n",
    "axs[1,0].set_title('(c)Superficial Gas Velocity  ')\n",
    "axs[1,1].hist(data['Bed Porosity'], bins=n_bins)\n",
    "axs[1,1].set_title('(d) Bed Porosity')\n",
    "plt.show()"
   ]
  },
  {
   "cell_type": "code",
   "execution_count": null,
   "id": "7a6619f5",
   "metadata": {},
   "outputs": [],
   "source": [
    "X,y = data.iloc[:,:-1],data.iloc[:,-1]"
   ]
  },
  {
   "cell_type": "code",
   "execution_count": null,
   "id": "09a42ff2",
   "metadata": {},
   "outputs": [],
   "source": [
    "from sklearn.preprocessing import MinMaxScaler\n",
    "scaler = MinMaxScaler()\n",
    "X_scaled = pd.DataFrame(scaler.fit_transform(X),columns=X.columns)\n"
   ]
  },
  {
   "cell_type": "code",
   "execution_count": null,
   "id": "cc7c20d4",
   "metadata": {},
   "outputs": [],
   "source": [
    "X_train, X_test,y_train, y_test = train_test_split(X_scaled,y ,test_size=0.2,random_state =42)"
   ]
  },
  {
   "cell_type": "markdown",
   "id": "91efd979",
   "metadata": {},
   "source": [
    "## Linear Regression"
   ]
  },
  {
   "cell_type": "code",
   "execution_count": null,
   "id": "12e727bb",
   "metadata": {},
   "outputs": [],
   "source": [
    "import timeit\n",
    "\n",
    "start = timeit.default_timer()\n",
    "\n",
    "\n",
    "reg = LinearRegression()\n",
    "kfold_cv = KFold(n_splits=10,random_state=42,shuffle=True)\n",
    "y_pred_cv = cross_val_predict(reg,X_train,y_train,cv=kfold_cv)\n",
    "\n",
    "print(\"r-sqr = \",r2_score(y_train,y_pred_cv))\n",
    "print(\"MAE = \",mean_absolute_error(y_train,y_pred_cv))\n",
    "print(\"AARE = \",AARE(y_train,y_pred_cv))\n",
    "\n",
    "stop = timeit.default_timer()\n",
    "\n",
    "print('Time: ', stop - start)"
   ]
  },
  {
   "cell_type": "code",
   "execution_count": null,
   "id": "f860a97d",
   "metadata": {},
   "outputs": [],
   "source": [
    "start = timeit.default_timer()\n",
    "reg = LinearRegression()\n",
    "reg.fit(X_train,y_train)\n",
    "y_pred = reg.predict(X_test)\n",
    "\n",
    "print(\"r-sqr = \",r2_score(y_test,y_pred))\n",
    "print(\"MAE = \",mean_absolute_error(y_test,y_pred))\n",
    "print(\"AARE = \",AARE(y_test,y_pred))\n",
    "\n",
    "\n",
    "stop = timeit.default_timer()\n",
    "\n",
    "print('Time: ', stop - start)"
   ]
  },
  {
   "cell_type": "code",
   "execution_count": null,
   "id": "bfb9bfdb",
   "metadata": {},
   "outputs": [],
   "source": [
    "plt.scatter(y_test,y_pred,marker='o',facecolors='none', edgecolors='b',s=3)\n",
    "plt.plot([np.min(y), np.max(y)], [np.min(y), np.max(y)],'k--', lw=1)\n",
    "plt.xlabel('Exp')\n",
    "plt.ylabel('Calc')\n",
    "plt.text(0.28, .06,\"MAE = {:.4f} \\n R\\N{SUPERSCRIPT TWO} = {:.2f}\".format(mean_absolute_error(y_test,y_pred),\n",
    "                                                                          r2_score(y_test,y_pred)))\n",
    "plt.savefig('d1.jpg',format='jpg', dpi=300)\n",
    "\n",
    "plt.show()"
   ]
  },
  {
   "cell_type": "markdown",
   "id": "247ca1a0",
   "metadata": {},
   "source": [
    "## GBR"
   ]
  },
  {
   "cell_type": "code",
   "execution_count": null,
   "id": "2c4cb320",
   "metadata": {},
   "outputs": [],
   "source": [
    "from sklearn.svm import SVR\n",
    "from sklearn.ensemble import RandomForestClassifier\n",
    "from sklearn.metrics import matthews_corrcoef, confusion_matrix, accuracy_score,make_scorer\n",
    "from sklearn.model_selection import GridSearchCV,cross_val_score,KFold,RepeatedKFold\n",
    "from IPython.display import display, clear_output\n",
    "from sklearn.preprocessing import scale,StandardScaler\n",
    "\n",
    "kfold_cv = RepeatedKFold(n_splits=10,random_state=42,n_repeats=3)\n",
    "estimator = GradientBoostingRegressor(learning_rate=0.08)\n",
    "\n",
    "param_grid = {'loss':['squared_error','huber','absolute_error','quantile'],\n",
    "          'n_estimators':[10,20,50,100,150],\n",
    "          'criterion':['squared_error','friedman_mse'],\n",
    "          'min_samples_split':np.arange(start=2,stop=8, step=2),\n",
    "          'max_depth':np.arange(start=2,stop=8,step=2),\n",
    "          'max_features':[1.0,0.8,0.5,0.3]}\n",
    "\n",
    "scorer = make_scorer(mean_absolute_error, greater_is_better=False) # as smaller error is better\n",
    "import warnings\n",
    "warnings.filterwarnings('ignore', message='invalid value encountered in double_scalars')\n",
    "\n",
    "grid = GridSearchCV(\n",
    "    estimator=estimator,\n",
    "    param_grid=param_grid,\n",
    "    verbose=3,\n",
    "    scoring=scorer,cv= kfold_cv,\n",
    "    n_jobs=11)\n",
    "    \n",
    "grid.fit(X_train,y_train)\n",
    "grid.best_estimator_"
   ]
  },
  {
   "cell_type": "code",
   "execution_count": null,
   "id": "89348302",
   "metadata": {},
   "outputs": [],
   "source": [
    "start = timeit.default_timer()\n",
    "reg =GradientBoostingRegressor(criterion='squared_error', learning_rate=0.08,\n",
    "                          loss='absolute_error', max_depth=None,\n",
    "                          max_features=0.8, min_samples_split=6,random_state=42)\n",
    "kfold_cv = KFold(n_splits=10,random_state=42,shuffle=True)\n",
    "y_pred_cv = cross_val_predict(reg,X_train,y_train,cv=kfold_cv)\n",
    "\n",
    "print(\"r-sqr = \",r2_score(y_train,y_pred_cv))\n",
    "print(\"MAE = \",mean_absolute_error(y_train,y_pred_cv))\n",
    "print(\"AARE = \",AARE(y_train,y_pred_cv))\n",
    "\n",
    "\n",
    "stop = timeit.default_timer()\n",
    "\n",
    "print('Time: ', stop - start)"
   ]
  },
  {
   "cell_type": "code",
   "execution_count": null,
   "id": "d1184a58",
   "metadata": {},
   "outputs": [],
   "source": [
    "start = timeit.default_timer()\n",
    "reg = GradientBoostingRegressor(criterion='squared_error', learning_rate=0.08,\n",
    "                          loss='absolute_error', max_depth=None,\n",
    "                          max_features=0.8, min_samples_split=6,random_state=42)\n",
    "reg.fit(X_train,y_train)\n",
    "y_pred = reg.predict(X_test)\n",
    "\n",
    "print(\"r-sqr = \",r2_score(y_test,y_pred))\n",
    "print(\"MAE = \",mean_absolute_error(y_test,y_pred))\n",
    "print(\"AARE = \",AARE(y_test,y_pred))\n",
    "\n",
    "\n",
    "stop = timeit.default_timer()\n",
    "\n",
    "print('Time: ', stop - start)"
   ]
  },
  {
   "cell_type": "code",
   "execution_count": null,
   "id": "a0484d8c",
   "metadata": {},
   "outputs": [],
   "source": [
    "plt.scatter(y_test,y_pred,marker='o',facecolors='none', edgecolors='b',s=3)\n",
    "plt.plot([np.min(y), np.max(y)], [np.min(y), np.max(y)],'k--', lw=1)\n",
    "plt.xlabel('Exp')\n",
    "plt.ylabel('Calc')\n",
    "plt.text(0.28, .06,\"MAE = {:.4f} \\n R\\N{SUPERSCRIPT TWO} = {:.2f}\".format(mean_absolute_error(y_test,y_pred),\n",
    "                                                                          r2_score(y_test,y_pred)))\n",
    "plt.savefig('d2.jpg',format='jpg', dpi=300)\n",
    "plt.show()"
   ]
  },
  {
   "cell_type": "code",
   "execution_count": null,
   "id": "d05b249a",
   "metadata": {},
   "outputs": [],
   "source": []
  },
  {
   "cell_type": "markdown",
   "id": "706ed439",
   "metadata": {},
   "source": [
    "# Random forest"
   ]
  },
  {
   "cell_type": "code",
   "execution_count": null,
   "id": "736c37ef",
   "metadata": {},
   "outputs": [],
   "source": [
    "from sklearn.svm import SVR\n",
    "from sklearn.ensemble import RandomForestRegressor\n",
    "from sklearn.metrics import matthews_corrcoef, confusion_matrix, accuracy_score,make_scorer\n",
    "from sklearn.model_selection import GridSearchCV,cross_val_score,KFold,RepeatedKFold\n",
    "from IPython.display import display, clear_output\n",
    "from sklearn.preprocessing import scale,StandardScaler\n",
    "\n",
    "kfold_cv = RepeatedKFold(n_splits=10,random_state=42,n_repeats=3)\n",
    "estimator = RandomForestRegressor()\n",
    "param_grid = {\n",
    "    'max_depth': [5,8,10],\n",
    "    'max_features': [0.2,0.4,0.6,0.8],\n",
    "    'n_estimators': [20,50,100,150]}\n",
    "\n",
    "scorer = make_scorer(mean_absolute_error, greater_is_better=False) # as smaller error is better\n",
    "import warnings\n",
    "warnings.filterwarnings('ignore', message='invalid value encountered in double_scalars')\n",
    "\n",
    "grid = GridSearchCV(\n",
    "    estimator=estimator,\n",
    "    param_grid=param_grid,\n",
    "    verbose=3,\n",
    "    scoring=scorer,cv= kfold_cv,\n",
    "    n_jobs=11)\n",
    "    \n",
    "grid.fit(X_train,y_train)\n",
    "grid.best_estimator_"
   ]
  },
  {
   "cell_type": "code",
   "execution_count": null,
   "id": "64d8670d",
   "metadata": {},
   "outputs": [],
   "source": [
    "start = timeit.default_timer()\n",
    "\n",
    "reg = RandomForestRegressor(max_depth=10, max_features=0.6, n_estimators=150,random_state=42)\n",
    "kfold_cv = KFold(n_splits=10,random_state=42,shuffle=True)\n",
    "y_pred_cv = cross_val_predict(reg,X_train,y_train,cv=kfold_cv)\n",
    "\n",
    "print(\"r-sqr = \",r2_score(y_train,y_pred_cv))\n",
    "print(\"MAE = \",mean_absolute_error(y_train,y_pred_cv))\n",
    "print(\"AARE = \",AARE(y_train,y_pred_cv))\n",
    "\n",
    "\n",
    "stop = timeit.default_timer()\n",
    "\n",
    "print('Time: ', stop - start)"
   ]
  },
  {
   "cell_type": "code",
   "execution_count": null,
   "id": "82c082e2",
   "metadata": {},
   "outputs": [],
   "source": [
    "start = timeit.default_timer()\n",
    "reg = RandomForestRegressor(max_depth=10, max_features=0.6, n_estimators=150,random_state=42)\n",
    "reg.fit(X_train,y_train)\n",
    "y_pred = reg.predict(X_test)\n",
    "\n",
    "print(\"r-sqr = \",r2_score(y_test,y_pred))\n",
    "print(\"MAE = \",mean_absolute_error(y_test,y_pred))\n",
    "print(\"AARE = \",AARE(y_test,y_pred))\n",
    "\n",
    "stop = timeit.default_timer()\n",
    "\n",
    "print('Time: ', stop - start)"
   ]
  },
  {
   "cell_type": "code",
   "execution_count": null,
   "id": "86e3eaab",
   "metadata": {
    "scrolled": true
   },
   "outputs": [],
   "source": [
    "plt.scatter(y_test,y_pred,marker='o',facecolors='none', edgecolors='b',s=3)\n",
    "plt.plot([np.min(y), np.max(y)], [np.min(y), np.max(y)],'k--', lw=1)\n",
    "plt.xlabel('Exp')\n",
    "plt.ylabel('Calc')\n",
    "plt.text(0.28, .06,\"MAE = {:.4f} \\n R\\N{SUPERSCRIPT TWO} = {:.2f}\".format(mean_absolute_error(y_test,y_pred),\n",
    "                                                                          r2_score(y_test,y_pred)))\n",
    "plt.savefig('d3.jpg',format='jpg', dpi=300)\n",
    "plt.show()"
   ]
  },
  {
   "cell_type": "code",
   "execution_count": null,
   "id": "90d68c4e",
   "metadata": {},
   "outputs": [],
   "source": []
  },
  {
   "cell_type": "markdown",
   "id": "4d42d9b8",
   "metadata": {},
   "source": [
    "# MLP\n"
   ]
  },
  {
   "cell_type": "code",
   "execution_count": null,
   "id": "a6eec2ca",
   "metadata": {},
   "outputs": [],
   "source": [
    "from sklearn.svm import SVR\n",
    "from sklearn.ensemble import RandomForestClassifier\n",
    "from sklearn.metrics import matthews_corrcoef, confusion_matrix, accuracy_score,make_scorer\n",
    "from sklearn.model_selection import GridSearchCV,cross_val_score,KFold\n",
    "from IPython.display import display, clear_output\n",
    "from sklearn.preprocessing import scale,StandardScaler\n",
    "from sklearn.neural_network import MLPRegressor\n",
    "\n",
    "kfold_cv = RepeatedKFold(n_splits=10,random_state=42,n_repeats=3)\n",
    "estimator = MLPRegressor()\n",
    "param_grid = {\"hidden_layer_sizes\": [10,20,50], \n",
    "              \"activation\": [\"identity\", \"logistic\", \"tanh\", \"relu\"], \n",
    "              \"solver\": [\"lbfgs\", \"sgd\", \"adam\"], \n",
    "              \"max_iter\" : [50,80,100,150]}\n",
    "\n",
    "\n",
    "scorer = make_scorer(mean_absolute_error, greater_is_better=False) # as smaller error is better\n",
    "import warnings\n",
    "warnings.filterwarnings('ignore', message='invalid value encountered in double_scalars')\n",
    "\n",
    "grid = GridSearchCV(\n",
    "    estimator=estimator,\n",
    "    param_grid=param_grid,\n",
    "    verbose=3,\n",
    "    scoring=scorer,cv= kfold_cv,\n",
    "    n_jobs=11)\n",
    "    \n",
    "grid.fit(X_train,y_train)\n",
    "grid.best_estimator_"
   ]
  },
  {
   "cell_type": "code",
   "execution_count": null,
   "id": "872bb0f4",
   "metadata": {},
   "outputs": [],
   "source": [
    "import timeit\n",
    "\n",
    "start = timeit.default_timer()\n",
    "\n",
    "reg =MLPRegressor(hidden_layer_sizes=50, solver='lbfgs',random_state=42)\n",
    "\n",
    "kfold_cv = KFold(n_splits=10,random_state=42,shuffle=True)\n",
    "y_pred_cv = cross_val_predict(reg,X_train,y_train,cv=kfold_cv)\n",
    "\n",
    "print(\"r-sqr = \",r2_score(y_train,y_pred_cv))\n",
    "print(\"MAE = \",mean_absolute_error(y_train,y_pred_cv))\n",
    "print(\"AARE = \",AARE(y_train,y_pred_cv))\n",
    "\n",
    "stop = timeit.default_timer()\n",
    "\n",
    "print('Time: ', stop - start)"
   ]
  },
  {
   "cell_type": "code",
   "execution_count": null,
   "id": "23c1059a",
   "metadata": {},
   "outputs": [],
   "source": [
    "import timeit\n",
    "\n",
    "start = timeit.default_timer()\n",
    "\n",
    "reg = MLPRegressor(hidden_layer_sizes=50, max_iter=150, solver='lbfgs',random_state=42)\n",
    "reg.fit(X_train,y_train)\n",
    "y_pred = reg.predict(X_test)\n",
    "\n",
    "print(\"r-sqr = \",r2_score(y_test,y_pred))\n",
    "print(\"MAE = \",mean_absolute_error(y_test,y_pred))\n",
    "print(\"AARE = \",AARE(y_test,y_pred))\n",
    "\n",
    "\n",
    "stop = timeit.default_timer()\n",
    "\n",
    "print('Time: ', stop - start)"
   ]
  },
  {
   "cell_type": "code",
   "execution_count": null,
   "id": "04eb3361",
   "metadata": {},
   "outputs": [],
   "source": [
    "plt.scatter(y_test,y_pred,marker='o',facecolors='none', edgecolors='b',s=3)\n",
    "plt.plot([np.min(y), np.max(y)], [np.min(y), np.max(y)],'k--', lw=1)\n",
    "plt.xlabel('Exp')\n",
    "plt.ylabel('Calc')\n",
    "plt.text(0.28, .06,\"MAE = {:.4f} \\n R\\N{SUPERSCRIPT TWO} = {:.2f}\".format(mean_absolute_error(y_test,y_pred),\n",
    "                                                                          r2_score(y_test,y_pred)))\n",
    "plt.savefig('d4.jpg',format='jpg', dpi=300)\n",
    "plt.show()"
   ]
  },
  {
   "cell_type": "code",
   "execution_count": null,
   "id": "1794addf",
   "metadata": {},
   "outputs": [],
   "source": []
  },
  {
   "cell_type": "code",
   "execution_count": null,
   "id": "2058fca8",
   "metadata": {},
   "outputs": [],
   "source": []
  },
  {
   "cell_type": "code",
   "execution_count": null,
   "id": "3eca6900",
   "metadata": {},
   "outputs": [],
   "source": []
  },
  {
   "cell_type": "code",
   "execution_count": null,
   "id": "957ef89e",
   "metadata": {},
   "outputs": [],
   "source": []
  }
 ],
 "metadata": {
  "kernelspec": {
   "display_name": "Python 3 (ipykernel)",
   "language": "python",
   "name": "python3"
  },
  "language_info": {
   "codemirror_mode": {
    "name": "ipython",
    "version": 3
   },
   "file_extension": ".py",
   "mimetype": "text/x-python",
   "name": "python",
   "nbconvert_exporter": "python",
   "pygments_lexer": "ipython3",
   "version": "3.8.8"
  }
 },
 "nbformat": 4,
 "nbformat_minor": 5
}
