{
 "cells": [
  {
   "cell_type": "code",
   "execution_count": 1,
   "id": "73bc3ff4",
   "metadata": {},
   "outputs": [],
   "source": [
    "import pandas as pd\n",
    "import numpy as np\n",
    "import sklearn.metrics as metrics\n",
    "from sklearn.model_selection import RepeatedKFold\n",
    "from sklearn.ensemble import GradientBoostingRegressor\n",
    "from sklearn.model_selection import GridSearchCV,train_test_split,KFold\n",
    "from sklearn.model_selection import train_test_split,cross_val_score,cross_val_predict,RepeatedKFold,GridSearchCV\n",
    "from sklearn.metrics import mean_absolute_error,r2_score\n",
    "import matplotlib.pyplot as plt\n",
    "from sklearn.linear_model import LinearRegression\n"
   ]
  },
  {
   "cell_type": "code",
   "execution_count": 2,
   "id": "38421981",
   "metadata": {},
   "outputs": [],
   "source": [
    "def AARE(y_actual,y_pred):\n",
    "    aare = np.mean(abs((y_pred - y_actual) / y_actual)) * 100\n",
    "    return aare"
   ]
  },
  {
   "cell_type": "code",
   "execution_count": 3,
   "id": "d682300e",
   "metadata": {},
   "outputs": [
    {
     "data": {
      "text/plain": [
       "(394, 12)"
      ]
     },
     "execution_count": 3,
     "metadata": {},
     "output_type": "execute_result"
    }
   ],
   "source": [
    "data = pd.read_csv('total_holdup.csv')\n",
    "data = data.dropna()\n",
    "data.shape"
   ]
  },
  {
   "cell_type": "code",
   "execution_count": 4,
   "id": "53e65f40",
   "metadata": {},
   "outputs": [
    {
     "data": {
      "text/html": [
       "<div>\n",
       "<style scoped>\n",
       "    .dataframe tbody tr th:only-of-type {\n",
       "        vertical-align: middle;\n",
       "    }\n",
       "\n",
       "    .dataframe tbody tr th {\n",
       "        vertical-align: top;\n",
       "    }\n",
       "\n",
       "    .dataframe thead th {\n",
       "        text-align: right;\n",
       "    }\n",
       "</style>\n",
       "<table border=\"1\" class=\"dataframe\">\n",
       "  <thead>\n",
       "    <tr style=\"text-align: right;\">\n",
       "      <th></th>\n",
       "      <th>Density of gas</th>\n",
       "      <th>Density of liquid</th>\n",
       "      <th>Viscosity of gas</th>\n",
       "      <th>Viscosity of liquid</th>\n",
       "      <th>Surface tension of liquid</th>\n",
       "      <th>Inner diameter</th>\n",
       "      <th>Packing height</th>\n",
       "      <th>Particle diameter</th>\n",
       "      <th>Bed Porosity</th>\n",
       "      <th>Superficial Gas Velocity</th>\n",
       "      <th>Superficial Liquid  Velocity</th>\n",
       "      <th>Experimental Liquid Holdup</th>\n",
       "    </tr>\n",
       "  </thead>\n",
       "  <tbody>\n",
       "    <tr>\n",
       "      <th>0</th>\n",
       "      <td>1.184</td>\n",
       "      <td>997.0</td>\n",
       "      <td>0.000019</td>\n",
       "      <td>0.000896</td>\n",
       "      <td>0.0721</td>\n",
       "      <td>0.14</td>\n",
       "      <td>2.0</td>\n",
       "      <td>0.0047</td>\n",
       "      <td>0.36</td>\n",
       "      <td>0.03</td>\n",
       "      <td>0.003988</td>\n",
       "      <td>0.175563</td>\n",
       "    </tr>\n",
       "    <tr>\n",
       "      <th>1</th>\n",
       "      <td>1.184</td>\n",
       "      <td>997.0</td>\n",
       "      <td>0.000019</td>\n",
       "      <td>0.000896</td>\n",
       "      <td>0.0721</td>\n",
       "      <td>0.14</td>\n",
       "      <td>2.0</td>\n",
       "      <td>0.0047</td>\n",
       "      <td>0.36</td>\n",
       "      <td>0.03</td>\n",
       "      <td>0.005988</td>\n",
       "      <td>0.175400</td>\n",
       "    </tr>\n",
       "    <tr>\n",
       "      <th>2</th>\n",
       "      <td>1.184</td>\n",
       "      <td>997.0</td>\n",
       "      <td>0.000019</td>\n",
       "      <td>0.000896</td>\n",
       "      <td>0.0721</td>\n",
       "      <td>0.14</td>\n",
       "      <td>2.0</td>\n",
       "      <td>0.0047</td>\n",
       "      <td>0.36</td>\n",
       "      <td>0.03</td>\n",
       "      <td>0.007984</td>\n",
       "      <td>0.193815</td>\n",
       "    </tr>\n",
       "    <tr>\n",
       "      <th>3</th>\n",
       "      <td>1.184</td>\n",
       "      <td>997.0</td>\n",
       "      <td>0.000019</td>\n",
       "      <td>0.000896</td>\n",
       "      <td>0.0721</td>\n",
       "      <td>0.14</td>\n",
       "      <td>2.0</td>\n",
       "      <td>0.0047</td>\n",
       "      <td>0.36</td>\n",
       "      <td>0.03</td>\n",
       "      <td>0.009881</td>\n",
       "      <td>0.206372</td>\n",
       "    </tr>\n",
       "    <tr>\n",
       "      <th>4</th>\n",
       "      <td>1.184</td>\n",
       "      <td>997.0</td>\n",
       "      <td>0.000019</td>\n",
       "      <td>0.000896</td>\n",
       "      <td>0.0721</td>\n",
       "      <td>0.14</td>\n",
       "      <td>2.0</td>\n",
       "      <td>0.0047</td>\n",
       "      <td>0.36</td>\n",
       "      <td>0.03</td>\n",
       "      <td>0.011929</td>\n",
       "      <td>0.217938</td>\n",
       "    </tr>\n",
       "  </tbody>\n",
       "</table>\n",
       "</div>"
      ],
      "text/plain": [
       "   Density of gas  Density of liquid  Viscosity of gas  Viscosity of liquid  \\\n",
       "0           1.184              997.0          0.000019             0.000896   \n",
       "1           1.184              997.0          0.000019             0.000896   \n",
       "2           1.184              997.0          0.000019             0.000896   \n",
       "3           1.184              997.0          0.000019             0.000896   \n",
       "4           1.184              997.0          0.000019             0.000896   \n",
       "\n",
       "   Surface tension of liquid   Inner diameter  Packing height   \\\n",
       "0                     0.0721             0.14              2.0   \n",
       "1                     0.0721             0.14              2.0   \n",
       "2                     0.0721             0.14              2.0   \n",
       "3                     0.0721             0.14              2.0   \n",
       "4                     0.0721             0.14              2.0   \n",
       "\n",
       "   Particle diameter  Bed Porosity  Superficial Gas Velocity  \\\n",
       "0             0.0047          0.36                      0.03   \n",
       "1             0.0047          0.36                      0.03   \n",
       "2             0.0047          0.36                      0.03   \n",
       "3             0.0047          0.36                      0.03   \n",
       "4             0.0047          0.36                      0.03   \n",
       "\n",
       "   Superficial Liquid  Velocity  Experimental Liquid Holdup  \n",
       "0                      0.003988                    0.175563  \n",
       "1                      0.005988                    0.175400  \n",
       "2                      0.007984                    0.193815  \n",
       "3                      0.009881                    0.206372  \n",
       "4                      0.011929                    0.217938  "
      ]
     },
     "execution_count": 4,
     "metadata": {},
     "output_type": "execute_result"
    }
   ],
   "source": [
    "data.head()"
   ]
  },
  {
   "cell_type": "code",
   "execution_count": 5,
   "id": "f64e005d",
   "metadata": {},
   "outputs": [
    {
     "data": {
      "image/png": "[encoded data removed]",
      "text/plain": [
       "<Figure size 720x720 with 4 Axes>"
      ]
     },
     "metadata": {
      "needs_background": "light"
     },
     "output_type": "display_data"
    }
   ],
   "source": [
    "fig, axs = plt.subplots(2, 2, sharey=True, tight_layout=True,figsize=(10,10))\n",
    "n_bins = 20\n",
    "\n",
    "axs[0,0].hist(data['Experimental Liquid Holdup'], bins=n_bins)\n",
    "axs[0,0].set_title('(a) Experimental Liquid Holdup')\n",
    "axs[0,1].hist(data['Superficial Liquid  Velocity'], bins=n_bins)\n",
    "axs[0,1].set_title('(b) Superficial Liquid Velocity ')\n",
    "axs[1,0].hist(data['Superficial Gas Velocity'], bins=n_bins)\n",
    "axs[1,0].set_title('(c)Superficial Gas Velocity  ')\n",
    "axs[1,1].hist(data['Bed Porosity'], bins=n_bins)\n",
    "axs[1,1].set_title('(d) Bed Porosity')\n",
    "plt.show()"
   ]
  },
  {
   "cell_type": "code",
   "execution_count": 6,
   "id": "e993e8c9",
   "metadata": {},
   "outputs": [],
   "source": [
    "X,y = data.iloc[:,:-1],data.iloc[:,-1]"
   ]
  },
  {
   "cell_type": "code",
   "execution_count": 7,
   "id": "384176cc",
   "metadata": {},
   "outputs": [],
   "source": [
    "from sklearn.preprocessing import MinMaxScaler\n",
    "scaler = MinMaxScaler()\n",
    "X_scaled = pd.DataFrame(scaler.fit_transform(X),columns=X.columns)\n"
   ]
  },
  {
   "cell_type": "code",
   "execution_count": 8,
   "id": "d5aa3758",
   "metadata": {},
   "outputs": [],
   "source": [
    "X_train, X_test,y_train, y_test = train_test_split(X_scaled,y ,test_size=0.2,random_state =42)"
   ]
  },
  {
   "cell_type": "markdown",
   "id": "810c001b",
   "metadata": {},
   "source": [
    "## Linear Regression"
   ]
  },
  {
   "cell_type": "code",
   "execution_count": 9,
   "id": "dd202960",
   "metadata": {},
   "outputs": [
    {
     "name": "stdout",
     "output_type": "stream",
     "text": [
      "r-sqr =  0.7287297643010988\n",
      "MAE =  0.028588968589143608\n",
      "AARE =  17.094566021065848\n"
     ]
    }
   ],
   "source": [
    "reg = LinearRegression()\n",
    "kfold_cv = KFold(n_splits=10,random_state=42,shuffle=True)\n",
    "y_pred_cv = cross_val_predict(reg,X_train,y_train,cv=kfold_cv)\n",
    "\n",
    "print(\"r-sqr = \",r2_score(y_train,y_pred_cv))\n",
    "print(\"MAE = \",mean_absolute_error(y_train,y_pred_cv))\n",
    "print(\"AARE = \",AARE(y_train,y_pred_cv))"
   ]
  },
  {
   "cell_type": "code",
   "execution_count": 10,
   "id": "0c39e83d",
   "metadata": {},
   "outputs": [
    {
     "name": "stdout",
     "output_type": "stream",
     "text": [
      "r-sqr =  0.7710834225819471\n",
      "MAE =  0.027140759657538156\n",
      "AARE =  15.838905761690459\n"
     ]
    }
   ],
   "source": [
    "reg = LinearRegression()\n",
    "reg.fit(X_train,y_train)\n",
    "y_pred = reg.predict(X_test)\n",
    "\n",
    "print(\"r-sqr = \",r2_score(y_test,y_pred))\n",
    "print(\"MAE = \",mean_absolute_error(y_test,y_pred))\n",
    "print(\"AARE = \",AARE(y_test,y_pred))"
   ]
  },
  {
   "cell_type": "code",
   "execution_count": 11,
   "id": "9056671c",
   "metadata": {},
   "outputs": [
    {
     "data": {
      "image/png": "[encoded data removed]",
      "text/plain": [
       "<Figure size 432x288 with 1 Axes>"
      ]
     },
     "metadata": {
      "needs_background": "light"
     },
     "output_type": "display_data"
    }
   ],
   "source": [
    "plt.scatter(y_test,y_pred,marker='o',facecolors='none', edgecolors='k',s=3)\n",
    "plt.plot([np.min(y), np.max(y)], [np.min(y), np.max(y)],'k-', lw=1)\n",
    "plt.xlabel('Exp')\n",
    "plt.ylabel('Calc')\n",
    "plt.text(0.28, .1,\"MAPE = {:.4f}% \\n r2 = {:.4f}\".format(AARE(y_test,y_pred),r2_score(y_test,y_pred)))\n",
    "plt.show()"
   ]
  },
  {
   "cell_type": "markdown",
   "id": "7f4195e0",
   "metadata": {},
   "source": [
    "## GBR"
   ]
  },
  {
   "cell_type": "code",
   "execution_count": null,
   "id": "00306430",
   "metadata": {},
   "outputs": [],
   "source": []
  },
  {
   "cell_type": "code",
   "execution_count": 12,
   "id": "4c747d13",
   "metadata": {},
   "outputs": [
    {
     "name": "stdout",
     "output_type": "stream",
     "text": [
      "r-sqr =  0.9664787984086634\n",
      "MAE =  0.007977372519129416\n",
      "AARE =  4.720854400090037\n"
     ]
    }
   ],
   "source": [
    "reg = GradientBoostingRegressor(loss='huber', max_depth=4, max_features='sqrt',\n",
    "                          min_samples_split=4, n_estimators=200,random_state=42)\n",
    "kfold_cv = KFold(n_splits=10,random_state=42,shuffle=True)\n",
    "y_pred_cv = cross_val_predict(reg,X_train,y_train,cv=kfold_cv)\n",
    "\n",
    "print(\"r-sqr = \",r2_score(y_train,y_pred_cv))\n",
    "print(\"MAE = \",mean_absolute_error(y_train,y_pred_cv))\n",
    "print(\"AARE = \",AARE(y_train,y_pred_cv))\n"
   ]
  },
  {
   "cell_type": "code",
   "execution_count": 13,
   "id": "b3c75c19",
   "metadata": {},
   "outputs": [
    {
     "name": "stdout",
     "output_type": "stream",
     "text": [
      "r-sqr =  0.969791581270692\n",
      "MAE =  0.006751930887246751\n",
      "AARE =  3.885085931808828\n"
     ]
    }
   ],
   "source": [
    "reg = GradientBoostingRegressor(loss='huber', max_depth=4, max_features='sqrt',\n",
    "                          min_samples_split=4, n_estimators=200,random_state=42)\n",
    "reg.fit(X_train,y_train)\n",
    "y_pred = reg.predict(X_test)\n",
    "\n",
    "print(\"r-sqr = \",r2_score(y_test,y_pred))\n",
    "print(\"MAE = \",mean_absolute_error(y_test,y_pred))\n",
    "print(\"AARE = \",AARE(y_test,y_pred))"
   ]
  },
  {
   "cell_type": "code",
   "execution_count": 14,
   "id": "8bc1a271",
   "metadata": {},
   "outputs": [
    {
     "data": {
      "image/png": "[encoded data removed]",
      "text/plain": [
       "<Figure size 432x288 with 1 Axes>"
      ]
     },
     "metadata": {
      "needs_background": "light"
     },
     "output_type": "display_data"
    }
   ],
   "source": [
    "plt.scatter(y_test,y_pred,marker='o',facecolors='none', edgecolors='k',s=3)\n",
    "plt.plot([np.min(y), np.max(y)], [np.min(y), np.max(y)],'k-', lw=1)\n",
    "plt.xlabel('Exp')\n",
    "plt.ylabel('Calc')\n",
    "plt.text(0.28, .1,\"MAPE = {:.4f}% \\n r2 = {:.4f}\".format(AARE(y_test,y_pred),r2_score(y_test,y_pred)))\n",
    "plt.show()"
   ]
  },
  {
   "cell_type": "code",
   "execution_count": null,
   "id": "97dfa2d7",
   "metadata": {},
   "outputs": [],
   "source": []
  },
  {
   "cell_type": "code",
   "execution_count": null,
   "id": "8af5ac3b",
   "metadata": {},
   "outputs": [],
   "source": []
  },
  {
   "cell_type": "markdown",
   "id": "95f2d5b6",
   "metadata": {},
   "source": [
    "# For selected features"
   ]
  },
  {
   "cell_type": "code",
   "execution_count": 15,
   "id": "b9feeae6",
   "metadata": {},
   "outputs": [],
   "source": [
    "top_selected_features = ['Superficial Liquid  Velocity',\n",
    "                         'Bed Porosity',\n",
    "                         'Superficial Gas Velocity',\n",
    "                         ' Inner diameter',\n",
    "                         'Packing height ',\n",
    "                         'Particle diameter',\n",
    "                         'Density of gas',\n",
    "                         'Viscosity of liquid']"
   ]
  },
  {
   "cell_type": "code",
   "execution_count": 16,
   "id": "253109fd",
   "metadata": {},
   "outputs": [],
   "source": [
    "X_selected_features = X_scaled[top_selected_features]"
   ]
  },
  {
   "cell_type": "code",
   "execution_count": 17,
   "id": "f0a8a057",
   "metadata": {},
   "outputs": [],
   "source": [
    "X_train, X_test,y_train, y_test = train_test_split(X_selected_features,y ,test_size=0.2,random_state =42)"
   ]
  },
  {
   "cell_type": "code",
   "execution_count": 18,
   "id": "26d27c9a",
   "metadata": {},
   "outputs": [
    {
     "name": "stdout",
     "output_type": "stream",
     "text": [
      "r-sqr =  0.9680090192057073\n",
      "MAE =  0.007582405363778353\n",
      "AARE =  4.50830369328987\n"
     ]
    }
   ],
   "source": [
    "reg = GradientBoostingRegressor(loss='huber', max_depth=4, max_features='sqrt',\n",
    "                          min_samples_split=4, n_estimators=200,random_state=42)\n",
    "kfold_cv = KFold(n_splits=10,random_state=42,shuffle=True)\n",
    "y_pred_cv = cross_val_predict(reg,X_train,y_train,cv=kfold_cv)\n",
    "\n",
    "print(\"r-sqr = \",r2_score(y_train,y_pred_cv))\n",
    "print(\"MAE = \",mean_absolute_error(y_train,y_pred_cv))\n",
    "print(\"AARE = \",AARE(y_train,y_pred_cv))\n"
   ]
  },
  {
   "cell_type": "code",
   "execution_count": 19,
   "id": "4fcc406b",
   "metadata": {},
   "outputs": [
    {
     "name": "stdout",
     "output_type": "stream",
     "text": [
      "r-sqr =  0.9652145054476919\n",
      "MAE =  0.006810599733461864\n",
      "AARE =  4.013457801096928\n"
     ]
    }
   ],
   "source": [
    "reg = GradientBoostingRegressor(loss='huber', max_depth=4, max_features='sqrt',\n",
    "                          min_samples_split=4, n_estimators=200,random_state=42)\n",
    "reg.fit(X_train,y_train)\n",
    "y_pred = reg.predict(X_test)\n",
    "\n",
    "print(\"r-sqr = \",r2_score(y_test,y_pred))\n",
    "print(\"MAE = \",mean_absolute_error(y_test,y_pred))\n",
    "print(\"AARE = \",AARE(y_test,y_pred))"
   ]
  },
  {
   "cell_type": "code",
   "execution_count": 20,
   "id": "9eb1881f",
   "metadata": {},
   "outputs": [
    {
     "data": {
      "image/png": "[encoded data removed]",
      "text/plain": [
       "<Figure size 432x288 with 1 Axes>"
      ]
     },
     "metadata": {
      "needs_background": "light"
     },
     "output_type": "display_data"
    }
   ],
   "source": [
    "plt.scatter(y_test,y_pred,marker='o',facecolors='none', edgecolors='k',s=3)\n",
    "plt.plot([np.min(y), np.max(y)], [np.min(y), np.max(y)],'k-', lw=1)\n",
    "plt.xlabel('Exp')\n",
    "plt.ylabel('Calc')\n",
    "plt.text(0.28, .1,\"MAPE = {:.4f}% \\n r2 = {:.4f}\".format(AARE(y_test,y_pred),r2_score(y_test,y_pred)))\n",
    "plt.show()"
   ]
  },
  {
   "cell_type": "code",
   "execution_count": null,
   "id": "318d0d2f",
   "metadata": {},
   "outputs": [],
   "source": []
  }
 ],
 "metadata": {
  "kernelspec": {
   "display_name": "Python 3 (ipykernel)",
   "language": "python",
   "name": "python3"
  },
  "language_info": {
   "codemirror_mode": {
    "name": "ipython",
    "version": 3
   },
   "file_extension": ".py",
   "mimetype": "text/x-python",
   "name": "python",
   "nbconvert_exporter": "python",
   "pygments_lexer": "ipython3",
   "version": "3.8.8"
  }
 },
 "nbformat": 4,
 "nbformat_minor": 5
}
